{
 "cells": [
  {
   "cell_type": "code",
   "execution_count": 1,
   "metadata": {},
   "outputs": [],
   "source": [
    "import pandas as pd\n",
    "from sklearn.linear_model import LinearRegression\n",
    "from sklearn.model_selection import train_test_split\n",
    "from sklearn import tree\n",
    "import matplotlib.pyplot as plt\n",
    "%matplotlib inline\n",
    "import numpy as np\n",
    "import os\n",
    "import glob\n",
    "from sklearn.feature_selection import mutual_info_classif as MIC\n",
    "from matplotlib import pyplot\n",
    "from sklearn.metrics import accuracy_score\n",
    "import time"
   ]
  },
  {
   "cell_type": "code",
   "execution_count": 2,
   "metadata": {},
   "outputs": [],
   "source": [
    "from sklearn.svm import SVC\n",
    "import matplotlib.pyplot as plt\n",
    "from matplotlib.colors import ListedColormap\n",
    "from sklearn.model_selection import GridSearchCV\n",
    "from mpl_toolkits.mplot3d import Axes3D\n",
    "from sklearn.metrics import roc_curve, auc\n",
    "from sklearn.metrics import roc_auc_score\n",
    "from sklearn.base import BaseEstimator\n",
    "from sklearn.base import ClassifierMixin\n",
    "from sklearn.preprocessing import LabelEncoder\n",
    "import six\n",
    "import sys\n",
    "sys.modules['sklearn.externals.six'] = six\n",
    "from sklearn.externals import six\n",
    "from sklearn.base import clone\n",
    "from sklearn.pipeline import _name_estimators\n",
    "from sklearn.ensemble import RandomForestClassifier"
   ]
  },
  {
   "cell_type": "code",
   "execution_count": 3,
   "metadata": {},
   "outputs": [],
   "source": [
    "# number = int(get_ipython().user_ns['param'])\n",
    "number = 2"
   ]
  },
  {
   "cell_type": "code",
   "execution_count": 4,
   "metadata": {},
   "outputs": [],
   "source": [
    "model_acc=[]\n",
    "model_precision=[]\n",
    "model_recal=[]\n",
    "model_f1=[]\n",
    "model_nam=[]\n",
    "model_confusion=[]\n",
    "model_time=[]\n",
    "from sklearn.metrics import precision_score\n",
    "from sklearn.metrics import classification_report,f1_score\n",
    "from sklearn.metrics import recall_score\n",
    "from sklearn.metrics import accuracy_score, confusion_matrix"
   ]
  },
  {
   "cell_type": "code",
   "execution_count": 5,
   "metadata": {},
   "outputs": [],
   "source": [
    "df = pd.read_csv('../Dataset CSV/csv_result-data'+str(number)+' Sampled Scenarios.csv')"
   ]
  },
  {
   "cell_type": "code",
   "execution_count": 6,
   "metadata": {},
   "outputs": [],
   "source": [
    "# Feature construction\n",
    "df['R1-VCM1'] = (df['R1-PM1:V'] - df['R1-PM7:V']) / (df['R1-PM4:I'] - df['R1-PM10:I'])\n",
    "df['R3-sV1'] = np.sin(df['R3-PA1:VH'] - df['R3-PA7:VH'])\n",
    "df['R3-sV3'] = np.sin(df['R3-PA3:VH'] - df['R3-PA9:VH'])\n",
    "df['R2-VCM1'] = (df['R2-PM1:V'] - df['R2-PM7:V']) / (df['R2-PM4:I'] - df['R2-PM10:I'])\n",
    "df['R3-VCM1'] = (df['R3-PM1:V'] - df['R3-PM7:V']) / (df['R3-PM4:I'] - df['R3-PM10:I'])\n",
    "df['R4-sI1'] = np.sin(df['R4-PA4:IH'] - df['R4-PA10:IH'])\n",
    "df['R2-VCA4'] = df['R2-PA7:VH'] - df['R2-PA10:IH']\n",
    "df['R1-sI1'] = np.sin(df['R1-PA4:IH'] - df['R1-PA10:IH'])\n",
    "df['R4-VCM2'] = (df['R4-PM2:V'] - df['R4-PM8:V']) / (df['R4-PM5:I'] - df['R4-PM11:I'])\n",
    "df['R2-VCA1'] = np.sin(df['R2-PA1:VH'] - df['R2-PA4:IH'] - df['R2-PA7:VH'] - df['R2-PA10:IH'])\n",
    "df['R3-VCM2'] = (df['R3-PM2:V'] - df['R3-PM8:V']) / (df['R3-PM5:I'] - df['R3-PM11:I'])\n",
    "df['R1-VCA4'] = df['R1-PA7:VH'] - df['R1-PA10:IH']\n",
    "df['R1-VCM2'] = (df['R1-PM2:V'] - df['R1-PM8:V']) / (df['R1-PM5:I'] - df['R1-PM11:I'])\n",
    "df['R2-VCM2'] = (df['R2-PM2:V'] - df['R2-PM8:V']) / (df['R2-PM5:I'] - df['R2-PM11:I'])\n",
    "df['R4-VCA4'] = df['R4-PA7:VH'] - df['R4-PA10:IH']\n",
    "df['R4-VCM1'] = (df['R4-PM1:V'] - df['R4-PM7:V']) / (df['R4-PM4:I'] - df['R4-PM10:I'])"
   ]
  },
  {
   "cell_type": "code",
   "execution_count": 7,
   "metadata": {},
   "outputs": [],
   "source": [
    "# add the marker to the last of the list\n",
    "cols = list(df.columns)\n",
    "cols.remove('marker')\n",
    "df = df[cols + ['marker']]"
   ]
  },
  {
   "cell_type": "code",
   "execution_count": 8,
   "metadata": {},
   "outputs": [
    {
     "data": {
      "text/plain": [
       "2937"
      ]
     },
     "execution_count": 8,
     "metadata": {},
     "output_type": "execute_result"
    }
   ],
   "source": [
    "df.replace([np.inf, -np.inf], np.nan, inplace= True)\n",
    "df.isnull().sum().sum()"
   ]
  },
  {
   "cell_type": "code",
   "execution_count": 9,
   "metadata": {},
   "outputs": [],
   "source": [
    "df = df.fillna(value=df.mean())"
   ]
  },
  {
   "cell_type": "code",
   "execution_count": 10,
   "metadata": {},
   "outputs": [
    {
     "name": "stdout",
     "output_type": "stream",
     "text": [
      "0 0\n"
     ]
    }
   ],
   "source": [
    "print(df.isin([np.inf, -np.inf]).sum().sum(), df.isnull().sum().sum())"
   ]
  },
  {
   "cell_type": "code",
   "execution_count": 11,
   "metadata": {},
   "outputs": [],
   "source": [
    "df_z_scaled = df.copy()\n",
    "for column in df_z_scaled.columns:\n",
    "#     print(df_z_scaled[column])\n",
    "    if (df_z_scaled[column].std() != 0) and (column != 'id') and (column != 'marker'):\n",
    "        df_z_scaled[column] = (df_z_scaled[column] -\n",
    "                           df_z_scaled[column].mean()) / df_z_scaled[column].std()     \n",
    "# print(df_z_scaled)"
   ]
  },
  {
   "cell_type": "code",
   "execution_count": 12,
   "metadata": {},
   "outputs": [],
   "source": [
    "X = df_z_scaled.iloc[:,1:-1]\n",
    "y = df_z_scaled.iloc[:,-1:]"
   ]
  },
  {
   "cell_type": "code",
   "execution_count": 13,
   "metadata": {},
   "outputs": [
    {
     "name": "stderr",
     "output_type": "stream",
     "text": [
      "C:\\ProgramData\\Anaconda3\\lib\\site-packages\\sklearn\\utils\\validation.py:72: DataConversionWarning: A column-vector y was passed when a 1d array was expected. Please change the shape of y to (n_samples, ), for example using ravel().\n",
      "  return f(**kwargs)\n"
     ]
    }
   ],
   "source": [
    "# Label the marker data\n",
    "from sklearn.preprocessing import LabelEncoder\n",
    "le = LabelEncoder()\n",
    "y = le.fit_transform(y)\n",
    "y = pd.DataFrame(y, columns=[\"marker\"])"
   ]
  },
  {
   "cell_type": "code",
   "execution_count": 14,
   "metadata": {},
   "outputs": [
    {
     "name": "stderr",
     "output_type": "stream",
     "text": [
      "<ipython-input-14-1d22c40dcc8b>:3: DeprecationWarning: `np.bool` is a deprecated alias for the builtin `bool`. To silence this warning, use `bool` by itself. Doing this will not modify any behavior and is safe. If you specifically wanted the numpy scalar type, use `np.bool_` here.\n",
      "Deprecated in NumPy 1.20; for more details and guidance: https://numpy.org/devdocs/release/1.20.0-notes.html#deprecations\n",
      "  upper = corr_matrix.where(np.triu(np.ones(corr_matrix.shape), k=1).astype(np.bool))\n"
     ]
    }
   ],
   "source": [
    "corr_matrix = X.corr(method ='pearson')\n",
    "# Select upper triangle of correlation matrix\n",
    "upper = corr_matrix.where(np.triu(np.ones(corr_matrix.shape), k=1).astype(np.bool))\n",
    "\n",
    "# Find features with correlation greater than 0.95\n",
    "to_drop = [column for column in upper.columns if any(upper[column] > 0.95)]\n",
    "\n",
    "# Drop features \n",
    "X.drop(to_drop, axis=1, inplace=True)"
   ]
  },
  {
   "cell_type": "code",
   "execution_count": 15,
   "metadata": {},
   "outputs": [],
   "source": [
    "import xgboost as xgb\n",
    "\n",
    "# Train the XGBoost model on the training data\n",
    "model = xgb.XGBClassifier()\n",
    "model.fit(X, y)\n",
    "\n",
    "# Extract the feature importance scores\n",
    "weights = model.get_booster().get_score(importance_type='weight')"
   ]
  },
  {
   "cell_type": "code",
   "execution_count": 16,
   "metadata": {
    "scrolled": true
   },
   "outputs": [
    {
     "data": {
      "image/png": "[encoded data removed]",
      "text/plain": [
       "<Figure size 1440x504 with 1 Axes>"
      ]
     },
     "metadata": {
      "needs_background": "light"
     },
     "output_type": "display_data"
    }
   ],
   "source": [
    "# Convert the dictionary to a pandas dataframe and add a column for the feature names\n",
    "importance = pd.DataFrame(weights, index=['weight']).T\n",
    "importance.reset_index(inplace=True)\n",
    "importance.rename(columns={'index': 'feature'}, inplace=True)\n",
    "\n",
    "# Sort the feature importance scores in descending order\n",
    "importance.sort_values(by='weight', ascending=False, inplace=True)\n",
    "\n",
    "# Plot the feature importance scores\n",
    "plt.figure(figsize=(20,7))\n",
    "colors = ['red' if f in ['R1-VCM1', 'R3-sV1' , 'R3-sV3', 'R2-VCM1', 'R3-VCM1', 'R4-sI1', 'R2-VCA4', 'R1-sI1', 'R4-VCM2', 'R2-VCA1', 'R3-VCM2', 'R1-VCA4', 'R1-VCM2', 'R2-VCM2', 'R4-VCA4', 'R4-VCM1'] else 'blue' for f in importance['feature']]\n",
    "\n",
    "# Plot the bar chart\n",
    "plt.bar(importance['feature'], importance['weight'], color=colors)\n",
    "plt.xticks( importance['feature'], rotation=90)\n",
    "plt.show()"
   ]
  },
  {
   "cell_type": "code",
   "execution_count": 17,
   "metadata": {},
   "outputs": [
    {
     "name": "stdout",
     "output_type": "stream",
     "text": [
      "['R1-PM5:I' 'R3-PM5:I' 'R1-VCM1' 'R1-PA1:VH' 'R3-sV3' 'R4-PA2:VH'\n",
      " 'R1-PA3:VH' 'R3-sV1' 'R2-PA5:IH' 'R4-VCM1' 'R1-PA2:VH' 'R2-PA3:VH'\n",
      " 'R3-PA5:IH' 'R4-PM2:V' 'R2-VCM1' 'R2-PA6:IH' 'R2-PA1:VH' 'R2-VCA4'\n",
      " 'R3-PA6:IH' 'R3-VCM2' 'R4-PA5:IH' 'R2-PA2:VH' 'R1-PM2:V' 'R1-sI1'\n",
      " 'R1-PA5:IH' 'R2-PA4:IH' 'R3-VCM1' 'R3-PA4:IH' 'R2-VCM2' 'R1-VCM2'\n",
      " 'R1-PM1:V']\n"
     ]
    }
   ],
   "source": [
    "top_n_feature_names = importance['feature'][:31].values\n",
    "print(top_n_feature_names)"
   ]
  },
  {
   "cell_type": "code",
   "execution_count": 18,
   "metadata": {},
   "outputs": [
    {
     "data": {
      "text/plain": [
       "array(['R1-PM5:I', 'R3-PM5:I', 'R1-VCM1', 'R1-PA1:VH', 'R3-sV3',\n",
       "       'R4-PA2:VH', 'R1-PA3:VH', 'R3-sV1', 'R2-PA5:IH', 'R4-VCM1',\n",
       "       'R1-PA2:VH', 'R2-PA3:VH', 'R3-PA5:IH', 'R4-PM2:V', 'R2-VCM1',\n",
       "       'R2-PA6:IH', 'R2-PA1:VH', 'R2-VCA4', 'R3-PA6:IH', 'R3-VCM2',\n",
       "       'R4-PA5:IH', 'R2-PA2:VH', 'R1-PM2:V', 'R1-sI1', 'R1-PA5:IH',\n",
       "       'R2-PA4:IH', 'R3-VCM1', 'R3-PA4:IH', 'R2-VCM2', 'R1-VCM2',\n",
       "       'R1-PM1:V', 'R4-VCM2', 'R4-sI1', 'R3-PA:ZH', 'R4-VCA4', 'R2-PM1:V',\n",
       "       'R2-VCA1', 'R1-VCA4', 'R2-PA:ZH', 'R1-PA:ZH', 'R4-PA:ZH',\n",
       "       'R1-PA12:IH', 'R4-PA4:IH', 'R1-PA6:IH', 'R4-PA6:IH', 'R1-PA4:IH',\n",
       "       'R4-PM1:V', 'R1-PA11:IH', 'R3-PM4:I', 'R3-PA12:IH', 'R1-PM4:I',\n",
       "       'R4-PM4:I', 'R1-PA:Z', 'R4-PA11:IH', 'R2-PA11:IH', 'R4-PA12:IH',\n",
       "       'R4:F', 'R2:F', 'R3-PA:Z', 'R1:F', 'R2-PA12:IH', 'R4-PA:Z',\n",
       "       'R2-PM2:V', 'R3-PA11:IH', 'R1:DF', 'R2-PA:Z', 'R4:DF', 'R2-PM4:I',\n",
       "       'R3-PM12:I', 'R2:DF', 'R1-PM11:I', 'R2-PM11:I', 'R1-PM7:V',\n",
       "       'R4-PM12:I', 'R2-PM12:I', 'R4-PM11:I', 'R1:S', 'R3:S', 'R4:S',\n",
       "       'relay1_log', 'relay2_log', 'R4-PM8:V', 'relay3_log', 'R2-PA8:VH',\n",
       "       'R1-PA9:VH', 'R2-PA9:VH', 'relay4_log', 'R2-PM8:V', 'R1-PM8:V',\n",
       "       'R4-PA8:VH'], dtype=object)"
      ]
     },
     "execution_count": 18,
     "metadata": {},
     "output_type": "execute_result"
    }
   ],
   "source": [
    "importance['feature'].values"
   ]
  },
  {
   "cell_type": "code",
   "execution_count": null,
   "metadata": {},
   "outputs": [],
   "source": []
  }
 ],
 "metadata": {
  "kernelspec": {
   "display_name": "Python 3",
   "language": "python",
   "name": "python3"
  },
  "language_info": {
   "codemirror_mode": {
    "name": "ipython",
    "version": 3
   },
   "file_extension": ".py",
   "mimetype": "text/x-python",
   "name": "python",
   "nbconvert_exporter": "python",
   "pygments_lexer": "ipython3",
   "version": "3.8.5"
  }
 },
 "nbformat": 4,
 "nbformat_minor": 4
}
